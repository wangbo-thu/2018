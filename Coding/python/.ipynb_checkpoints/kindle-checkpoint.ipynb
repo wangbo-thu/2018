{
 "cells": [
  {
   "cell_type": "markdown",
   "metadata": {},
   "source": [
    "### 将kindle中的笔记到处，分别按书名保存成txt文件"
   ]
  },
  {
   "cell_type": "code",
   "execution_count": 142,
   "metadata": {
    "collapsed": true
   },
   "outputs": [],
   "source": [
    "with open(\"My Clippings.txt\", 'r', encoding='UTF-8') as f1:\n",
    "    list1 = f1.readlines()"
   ]
  },
  {
   "cell_type": "code",
   "execution_count": 143,
   "metadata": {},
   "outputs": [],
   "source": [
    "idx_start = 0\n",
    "for i in range(0, len(list1)):\n",
    "    if list1[i] == '==========\\n':\n",
    "        idx_end = i\n",
    "        txt_name = list1[idx_start].rstrip('\\n')\n",
    "        txt_name += '.txt'\n",
    "        with open(txt_name, 'a', encoding='UTF-8') as fout:\n",
    "            fout.writelines(list1[idx_start+2:idx_end])\n",
    "        idx_start = i + 1"
   ]
  },
  {
   "cell_type": "code",
   "execution_count": null,
   "metadata": {
    "collapsed": true
   },
   "outputs": [],
   "source": []
  }
 ],
 "metadata": {
  "kernelspec": {
   "display_name": "Python 3",
   "language": "python",
   "name": "python3"
  },
  "language_info": {
   "codemirror_mode": {
    "name": "ipython",
    "version": 3
   },
   "file_extension": ".py",
   "mimetype": "text/x-python",
   "name": "python",
   "nbconvert_exporter": "python",
   "pygments_lexer": "ipython3",
   "version": "3.6.3"
  }
 },
 "nbformat": 4,
 "nbformat_minor": 2
}
